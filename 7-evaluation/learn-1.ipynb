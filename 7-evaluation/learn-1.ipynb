{
 "cells": [
  {
   "cell_type": "code",
   "execution_count": 1,
   "metadata": {},
   "outputs": [],
   "source": [
    "import os\n",
    "import tiktoken\n",
    "from dotenv import load_dotenv\n",
    "import openai\n",
    "\n",
    "load_dotenv()\n",
    "\n",
    "openai.api_key= os.getenv(\"AVALAI_API_KEY\")\n",
    "openai.api_base= \"https://api.avalai.ir/v1\""
   ]
  },
  {
   "cell_type": "code",
   "execution_count": 2,
   "metadata": {},
   "outputs": [],
   "source": [
    "def get_completion_from_messages(messages, \n",
    "                                 model=\"gpt-3.5-turbo\", \n",
    "                                 temperature=0, \n",
    "                                 max_tokens=500):\n",
    "    response = openai.ChatCompletion.create(\n",
    "        model=model,\n",
    "        messages=messages,\n",
    "        temperature=temperature,\n",
    "        max_tokens=max_tokens,\n",
    "    )\n",
    "    return response.choices[0].message.content"
   ]
  },
  {
   "cell_type": "code",
   "execution_count": 3,
   "metadata": {},
   "outputs": [],
   "source": [
    "import json\n",
    "\n",
    "def get_products():\n",
    "    with open(\"../data/products.json\", 'r') as file:\n",
    "        products = json.load(file)\n",
    "    return products\n",
    "\n",
    "\n",
    "def get_products_and_category():\n",
    "    products = get_products()\n",
    "    products_by_category = dict()\n",
    "    for product_name, product_info in products.items():\n",
    "        category = product_info.get('category')\n",
    "        if category:\n",
    "            if category not in products_by_category:\n",
    "                products_by_category[category] = []\n",
    "            products_by_category[category].append(product_info.get('name'))\n",
    "    \n",
    "    return dict(products_by_category)\n",
    "\n",
    "\n",
    "import json \n",
    "\n",
    "def read_string_to_list(input_string):\n",
    "    if input_string is None:\n",
    "        return None\n",
    "\n",
    "    try:\n",
    "        input_string = input_string.replace(\"'\", \"\\\"\")  # Replace single quotes with double quotes for valid JSON\n",
    "        data = json.loads(input_string)\n",
    "        return data\n",
    "    except json.JSONDecodeError:\n",
    "        print(\"Error: Invalid JSON string\")\n",
    "        return None "
   ]
  },
  {
   "cell_type": "code",
   "execution_count": 4,
   "metadata": {},
   "outputs": [],
   "source": [
    "def get_product_by_name(name):\n",
    "    products = get_products()\n",
    "    return products.get(name, None)\n",
    "\n",
    "def get_products_by_category(category):\n",
    "    products = get_products()\n",
    "    return [product for product in products.values() if product[\"category\"] == category]\n",
    "\n",
    "def get_products_and_category():\n",
    "    products = get_products()\n",
    "    products_by_category = dict()\n",
    "    for product_name, product_info in products.items():\n",
    "        category = product_info.get('category')\n",
    "        if category:\n",
    "            if category not in products_by_category:\n",
    "                products_by_category[category] = []\n",
    "            products_by_category[category].append(product_info.get('name'))\n",
    "    \n",
    "    return dict(products_by_category)"
   ]
  },
  {
   "cell_type": "code",
   "execution_count": 5,
   "metadata": {},
   "outputs": [],
   "source": [
    "def get_mentioned_product_info(data_list):    \n",
    "    \n",
    "    product_info_l = []    \n",
    "    if data_list is None:        \n",
    "        return product_info_l    \n",
    "    \n",
    "    for data in data_list:        \n",
    "        try:            \n",
    "            if \"products\" in data:                \n",
    "                products_list = data[\"products\"]                \n",
    "                for product_name in products_list:                    \n",
    "                    product = get_product_by_name(product_name)                    \n",
    "                    if product:                        \n",
    "                        product_info_l.append(product)                             \n",
    "            elif \"category\" in data:                \n",
    "                category_name = data[\"category\"]                \n",
    "                category_products = get_products_by_category(category_name)                \n",
    "                for product in category_products:                    \n",
    "                    product_info_l.append(product)            \n",
    "            else:                \n",
    "                print(\"Error: Invalid object format\")        \n",
    "        except Exception as e:            \n",
    "            print(f\"Error: {e}\")    \n",
    "    return product_info_l"
   ]
  },
  {
   "cell_type": "code",
   "execution_count": 6,
   "metadata": {},
   "outputs": [],
   "source": [
    "def get_products_from_query(user_msg):    \n",
    "    products_and_category = get_products_and_category()    \n",
    "    delimiter = \"####\"    \n",
    "    system_message = f\"\"\"    \n",
    "    You will be provided with customer service queries.\n",
    "    The customer service query will be delimited with {delimiter} characters.    \n",
    "\n",
    "    Output a python list of json objects, where each object has the following format:        \n",
    "    \"category\": <one of Computers and Laptops, Smartphones and Accessories, Televisions and Home Theater Systems,   \n",
    "    Gaming Consoles and Accessories, Audio Equipment, Cameras and Camcorders>,    \n",
    "    OR        \n",
    "    \"products\": <a list of products that must be found in the allowed products below>    \n",
    "    Where the categories and products must be found in the customer service query.    \n",
    "    \n",
    "    If a product is mentioned, it must be associated with the correct category in the allowed products list below.   \n",
    "    If no products or categories are found, output an empty list. \n",
    "    \n",
    "    The allowed products are provided in JSON format.   \n",
    "    The keys of each item represent the category.    \n",
    "    The values of each item is a list of products that are within that category.   \n",
    "\n",
    "    Allowed products: {products_and_category}    \"\"\"        \n",
    "    messages =  [\n",
    "        {\"role\":\"system\", \"content\": system_message},       \n",
    "        {\"role\":\"user\", \"content\": f\"{delimiter}{user_msg}{delimiter}\"},    \n",
    "    ]     \n",
    "    category_and_product_response = get_completion_from_messages(messages)        \n",
    "    return category_and_product_response"
   ]
  },
  {
   "cell_type": "code",
   "execution_count": 8,
   "metadata": {},
   "outputs": [],
   "source": [
    "def answer_user_msg(user_msg,product_info):    \n",
    "    \n",
    "    delimiter = \"####\"    \n",
    "    system_message = f\"\"\"    \n",
    "    You are a customer service assistant for a large electronic store.\n",
    "    Respond in a friendly and helpful tone, with concise answers. \n",
    "    Make sure to ask the user relevant follow up questions.    \"\"\"    \n",
    "    \n",
    "    messages =  [      \n",
    "        {\"role\":\"system\", \"content\": system_message},       \n",
    "        {\"role\":\"user\", \"content\": f\"{delimiter}{user_msg}{delimiter}\"},      \n",
    "        {\"role\":\"assistant\", \"content\": f\"Relevant product information:{product_info}\"},       \n",
    "        ]     \n",
    "    response = get_completion_from_messages(messages)    \n",
    "    return response"
   ]
  },
  {
   "cell_type": "code",
   "execution_count": 10,
   "metadata": {},
   "outputs": [
    {
     "name": "stdout",
     "output_type": "stream",
     "text": [
      "Error: Invalid JSON string\n"
     ]
    }
   ],
   "source": [
    "# Run through the end-to-end system to answer the user query\n",
    "\n",
    "customer_msg = f\"\"\"\n",
    "tell me about the smartx pro phone and the fotosnap camera, the dslr one.\n",
    "Also, what TVs or TV related products do you have?\"\"\"\n",
    "\n",
    "products_by_category = get_products_from_query(customer_msg)\n",
    "category_and_product_list = read_string_to_list(products_by_category)\n",
    "product_info = get_mentioned_product_info(category_and_product_list)\n",
    "assistant_answer = answer_user_msg(user_msg=customer_msg,product_info=product_info)"
   ]
  },
  {
   "cell_type": "code",
   "execution_count": 11,
   "metadata": {},
   "outputs": [
    {
     "name": "stdout",
     "output_type": "stream",
     "text": [
      "Sure! The SmartX Pro phone is a high-performance smartphone with advanced features like a powerful processor, long-lasting battery, and a stunning display. The FotoSnap camera is a DSLR camera known for its professional-quality photos and versatility in capturing different scenes.\n",
      "\n",
      "As for TVs and TV-related products, we have a wide range of options available. Could you please provide more details on what specific features or size you are looking for in a TV? This will help me recommend the best product for you.\n"
     ]
    }
   ],
   "source": [
    "print(assistant_answer)"
   ]
  },
  {
   "cell_type": "code",
   "execution_count": 12,
   "metadata": {},
   "outputs": [],
   "source": [
    "### Evaluate the LLM's answer to the user with a rubric, based on the extracted product information\n",
    "\n",
    "cust_prod_info = {\n",
    "    'customer_msg': customer_msg,\n",
    "    'context': product_info\n",
    "}\n",
    "\n",
    "def eval_with_rubric(test_set, assistant_answer):\n",
    "\n",
    "    cust_msg = test_set['customer_msg']\n",
    "    context = test_set['context']\n",
    "    completion = assistant_answer\n",
    "    \n",
    "    system_message = \"\"\"\\\n",
    "    You are an assistant that evaluates how well the customer service agent \\\n",
    "    answers a user question by looking at the context that the customer service \\\n",
    "    agent is using to generate its response. \n",
    "    \"\"\"\n",
    "\n",
    "    user_message = f\"\"\"\\\n",
    "You are evaluating a submitted answer to a question based on the context \\\n",
    "that the agent uses to answer the question.\n",
    "Here is the data:\n",
    "    [BEGIN DATA]\n",
    "    ************\n",
    "    [Question]: {cust_msg}\n",
    "    ************\n",
    "    [Context]: {context}\n",
    "    ************\n",
    "    [Submission]: {completion}\n",
    "    ************\n",
    "    [END DATA]\n",
    "\n",
    "Compare the factual content of the submitted answer with the context. \\\n",
    "Ignore any differences in style, grammar, or punctuation.\n",
    "Answer the following questions:\n",
    "    - Is the Assistant response based only on the context provided? (Y or N)\n",
    "    - Does the answer include information that is not provided in the context? (Y or N)\n",
    "    - Is there any disagreement between the response and the context? (Y or N)\n",
    "    - Count how many questions the user asked. (output a number)\n",
    "    - For each question that the user asked, is there a corresponding answer to it?\n",
    "      Question 1: (Y or N)\n",
    "      Question 2: (Y or N)\n",
    "      ...\n",
    "      Question N: (Y or N)\n",
    "    - Of the number of questions asked, how many of these questions were addressed by the answer? (output a number)\n",
    "\"\"\"\n",
    "\n",
    "    messages = [\n",
    "        {'role': 'system', 'content': system_message},\n",
    "        {'role': 'user', 'content': user_message}\n",
    "    ]\n",
    "\n",
    "    response = get_completion_from_messages(messages)\n",
    "    return response"
   ]
  },
  {
   "cell_type": "code",
   "execution_count": 15,
   "metadata": {},
   "outputs": [
    {
     "name": "stdout",
     "output_type": "stream",
     "text": [
      "- Is the Assistant response based only on the context provided? (Y or N)  \n",
      "N\n",
      "\n",
      "- Does the answer include information that is not provided in the context? (Y or N)  \n",
      "Y\n",
      "\n",
      "- Is there any disagreement between the response and the context? (Y or N)  \n",
      "N\n",
      "\n",
      "- Count how many questions the user asked. (output a number)  \n",
      "2\n",
      "\n",
      "- For each question that the user asked, is there a corresponding answer to it?  \n",
      "Question 1: Y  \n",
      "Question 2: Y  \n",
      "\n",
      "- Of the number of questions asked, how many of these questions were addressed by the answer? (output a number)  \n",
      "2\n"
     ]
    }
   ],
   "source": [
    "evaluation_output = eval_with_rubric(cust_prod_info, assistant_answer)\n",
    "print(evaluation_output)"
   ]
  },
  {
   "cell_type": "code",
   "execution_count": 16,
   "metadata": {},
   "outputs": [],
   "source": [
    "### Evaluate the LLM's answer to the user based on an \"ideal\" / \"expert\" (human generated) answer.\n",
    "\n",
    "test_set_ideal = {\n",
    "    'customer_msg': \"\"\"\\\n",
    "tell me about the smartx pro phone and the fotosnap camera, the dslr one.\n",
    "Also, what TVs or TV related products do you have?\"\"\",\n",
    "\n",
    "    'ideal_answer':\"\"\"\\\n",
    "Of course!  The SmartX ProPhone is a powerful \\\n",
    "smartphone with advanced camera features. \\\n",
    "For instance, it has a 12MP dual camera. \\\n",
    "Other features include 5G wireless and 128GB storage. \\\n",
    "It also has a 6.1-inch display.  The price is $899.99.\n",
    "\n",
    "The FotoSnap DSLR Camera is great for \\\n",
    "capturing stunning photos and videos. \\\n",
    "Some features include 1080p video, \\\n",
    "3-inch LCD, a 24.2MP sensor, \\\n",
    "and interchangeable lenses. \\\n",
    "The price is 599.99.\n",
    "\n",
    "For TVs and TV related products, we offer 3 TVs \\\n",
    "\n",
    "All TVs offer HDR and Smart TV.\n",
    "\n",
    "The CineView 4K TV has vibrant colors and smart features. \\\n",
    "Some of these features include a 55-inch display, \\\n",
    "'4K resolution. It's priced at 599.\n",
    "\n",
    "The CineView 8K TV is a stunning 8K TV. \\\n",
    "Some features include a 65-inch display and \\\n",
    "8K resolution.  It's priced at 2999.99\n",
    "\n",
    "The CineView OLED TV lets you experience vibrant colors. \\\n",
    "Some features include a 55-inch display and 4K resolution. \\\n",
    "It's priced at 1499.99.\n",
    "\n",
    "We also offer 2 home theater products, both which include bluetooth.\\\n",
    "The SoundMax Home Theater is a powerful home theater system for \\\n",
    "an immmersive audio experience.\n",
    "Its features include 5.1 channel, 1000W output, and wireless subwoofer.\n",
    "It's priced at 399.99.\n",
    "\n",
    "The SoundMax Soundbar is a sleek and powerful soundbar.\n",
    "It's features include 2.1 channel, 300W output, and wireless subwoofer.\n",
    "It's priced at 199.99\n",
    "\n",
    "Are there any questions additional you may have about these products \\\n",
    "that you mentioned here?\n",
    "Or may do you have other questions I can help you with?\n",
    "    \"\"\"\n",
    "}"
   ]
  },
  {
   "cell_type": "code",
   "execution_count": 17,
   "metadata": {},
   "outputs": [],
   "source": [
    "### Check if the LLM's response agrees with or disagrees with the expert answer\n",
    "\n",
    "# This evaluation prompt is from the [OpenAI evals](https://github.com/openai/evals/blob/main/evals/registry/modelgraded/fact.yaml) project.\n",
    "\n",
    "# [BLEU score](https://en.wikipedia.org/wiki/BLEU): another way to evaluate whether two pieces of text are similar or not.\n",
    "\n",
    "def eval_vs_ideal(test_set, assistant_answer):\n",
    "\n",
    "    cust_msg = test_set['customer_msg']\n",
    "    ideal = test_set['ideal_answer']\n",
    "    completion = assistant_answer\n",
    "    \n",
    "    system_message = \"\"\"\\\n",
    "    You are an assistant that evaluates how well the customer service agent \\\n",
    "    answers a user question by comparing the response to the ideal (expert) response\n",
    "    Output a single letter and nothing else. \n",
    "    \"\"\"\n",
    "\n",
    "    user_message = f\"\"\"\\\n",
    "You are comparing a submitted answer to an expert answer on a given question. Here is the data:\n",
    "    [BEGIN DATA]\n",
    "    ************\n",
    "    [Question]: {cust_msg}\n",
    "    ************\n",
    "    [Expert]: {ideal}\n",
    "    ************\n",
    "    [Submission]: {completion}\n",
    "    ************\n",
    "    [END DATA]\n",
    "\n",
    "Compare the factual content of the submitted answer with the expert answer. Ignore any differences in style, grammar, or punctuation.\n",
    "    The submitted answer may either be a subset or superset of the expert answer, or it may conflict with it. Determine which case applies. Answer the question by selecting one of the following options:\n",
    "    (A) The submitted answer is a subset of the expert answer and is fully consistent with it.\n",
    "    (B) The submitted answer is a superset of the expert answer and is fully consistent with it.\n",
    "    (C) The submitted answer contains all the same details as the expert answer.\n",
    "    (D) There is a disagreement between the submitted answer and the expert answer.\n",
    "    (E) The answers differ, but these differences don't matter from the perspective of factuality.\n",
    "  choice_strings: ABCDE\n",
    "\"\"\"\n",
    "\n",
    "    messages = [\n",
    "        {'role': 'system', 'content': system_message},\n",
    "        {'role': 'user', 'content': user_message}\n",
    "    ]\n",
    "\n",
    "    response = get_completion_from_messages(messages)\n",
    "    return response"
   ]
  },
  {
   "cell_type": "code",
   "execution_count": 18,
   "metadata": {},
   "outputs": [
    {
     "data": {
      "text/plain": [
       "'D'"
      ]
     },
     "execution_count": 18,
     "metadata": {},
     "output_type": "execute_result"
    }
   ],
   "source": [
    "eval_vs_ideal(test_set_ideal, assistant_answer)"
   ]
  },
  {
   "cell_type": "code",
   "execution_count": 19,
   "metadata": {},
   "outputs": [],
   "source": [
    "assistant_answer_2 = \"life is like a box of chocolates\""
   ]
  },
  {
   "cell_type": "code",
   "execution_count": 20,
   "metadata": {},
   "outputs": [
    {
     "data": {
      "text/plain": [
       "'D'"
      ]
     },
     "execution_count": 20,
     "metadata": {},
     "output_type": "execute_result"
    }
   ],
   "source": [
    "eval_vs_ideal(test_set_ideal, assistant_answer_2)"
   ]
  }
 ],
 "metadata": {
  "kernelspec": {
   "display_name": "Python 3",
   "language": "python",
   "name": "python3"
  },
  "language_info": {
   "codemirror_mode": {
    "name": "ipython",
    "version": 3
   },
   "file_extension": ".py",
   "mimetype": "text/x-python",
   "name": "python",
   "nbconvert_exporter": "python",
   "pygments_lexer": "ipython3",
   "version": "3.12.4"
  }
 },
 "nbformat": 4,
 "nbformat_minor": 2
}
